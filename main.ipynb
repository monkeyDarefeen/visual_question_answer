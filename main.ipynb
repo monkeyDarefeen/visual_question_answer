{
 "cells": [
  {
   "cell_type": "code",
   "execution_count": null,
   "id": "1af8b25e-f615-4ffb-a200-6c76b02cdcb1",
   "metadata": {},
   "outputs": [],
   "source": [
    "from utils.load_modules import *\n",
    "from utils import load_sam\n",
    "from utils import load_llava\n",
    "from utils import load_llama"
   ]
  },
  {
   "cell_type": "code",
   "execution_count": null,
   "id": "9b8693a0-c60f-4576-94b8-d5a1e8261d38",
   "metadata": {},
   "outputs": [],
   "source": [
    "#Load the model\n",
    "#load sam model sam_vit_h_4b8939.pth or others\n",
    "checkpoint_path=\"sam_vit_h_4b8939.pth\"\n",
    "model_type=\"vit_h\"\n",
    "mask_generator, device, sam = load_sam.load_model(checkpoint_path, model_type)"
   ]
  },
  {
   "cell_type": "code",
   "execution_count": null,
   "id": "51310077-cbbf-4112-9e5c-31f62bc009ed",
   "metadata": {},
   "outputs": [],
   "source": [
    "#load image\n",
    "image_path = \"swim.jpg\"\n",
    "image = load_image(image_path)"
   ]
  },
  {
   "cell_type": "code",
   "execution_count": null,
   "id": "3d4ff84a-e668-4a52-a1c1-abe2419d6cbe",
   "metadata": {},
   "outputs": [],
   "source": [
    "#Generate masks for the image\n",
    "masks = generate_masks(mask_generator, image)\n",
    "\n",
    "#Calculate bounding boxes for each mask\n",
    "bounding_boxes = get_bounding_boxes(masks)\n",
    "print(len(bounding_boxes), type(bounding_boxes))"
   ]
  },
  {
   "cell_type": "code",
   "execution_count": null,
   "id": "34708830-f5bd-4648-a20c-72b20b856352",
   "metadata": {
    "scrolled": true
   },
   "outputs": [],
   "source": [
    "# Step 5: Crop the image based on bounding boxes\n",
    "# n_cluster is 8 and max_bboxes_per_cluster is 10, change them to test\n",
    "#either Run this cell or the next to get cropped images\n",
    "\n",
    "#clustered_boxes = cluster_segments_with_limit(bounding_boxes, n_clusters=5, max_bboxes_per_cluster=10)\n",
    "#cropped_images = crop_by_group_with_limit(image, clustered_boxes)"
   ]
  },
  {
   "cell_type": "code",
   "execution_count": null,
   "id": "0c8c319d-131b-49d1-9588-0e2212c62ffc",
   "metadata": {
    "scrolled": true
   },
   "outputs": [],
   "source": []
  },
  {
   "cell_type": "code",
   "execution_count": null,
   "id": "92f9e445-2df1-4b17-8cc6-1202bf4a2769",
   "metadata": {
    "scrolled": true
   },
   "outputs": [],
   "source": [
    "#Step 5- ALternative version\n",
    "#Cluster without maximum box size. Please do not run this if you run previous cell\n",
    "\n",
    "\n",
    "#cluster_labels = cluster_segments(bounding_boxes, 5)\n",
    "#clustered_boxes = group_bounding_boxes_by_cluster(bounding_boxes, cluster_labels)\n",
    "#cropped_images = crop_by_group(image, clustered_boxes)"
   ]
  },
  {
   "cell_type": "code",
   "execution_count": null,
   "id": "e4e041f4-3c20-4aa8-a96e-c33a4213b416",
   "metadata": {},
   "outputs": [],
   "source": [
    "#Display Clustered images\n",
    "display_segments_with_cluster(image, bounding_boxes, clustered_boxes, cropped_images)"
   ]
  },
  {
   "cell_type": "code",
   "execution_count": null,
   "id": "6c9ab75b-971b-4433-81ce-8965deb0f731",
   "metadata": {},
   "outputs": [],
   "source": [
    "#visulatlize cluster with different colors\n",
    "visualize_clusters(image, bounding_boxes, clustered_boxes)"
   ]
  },
  {
   "cell_type": "code",
   "execution_count": null,
   "id": "3b7ae713-c330-46c5-a919-0c3ae877d38f",
   "metadata": {},
   "outputs": [],
   "source": [
    "#Save Cropped images for test purposes\n",
    "save_images(cropped_images)"
   ]
  },
  {
   "cell_type": "code",
   "execution_count": null,
   "id": "906b1655-b6e2-46c2-bf99-e824ff7ce3f2",
   "metadata": {},
   "outputs": [],
   "source": [
    "#load LLaVA model\n",
    "model_llava, processor_llava = load_llava.load_llava_model(\"llava-hf/llava-v1.6-mistral-7b-hf\")"
   ]
  },
  {
   "cell_type": "code",
   "execution_count": null,
   "id": "71c2d9cb-38a7-44c1-8184-ae701ee935fe",
   "metadata": {},
   "outputs": [],
   "source": [
    "#ask question for individual images\n",
    "#for test only\n",
    "#process_images_in_folder(\"clustered\", model_llava, processor_llava)"
   ]
  },
  {
   "cell_type": "code",
   "execution_count": null,
   "id": "4b063227-5593-48ad-b98e-e89edaa4ba5a",
   "metadata": {},
   "outputs": [],
   "source": [
    "#Get answer for each images and make summary\n",
    "answer_list = get_summary_from_images(\"clustered\", model_llava, processor_llava)"
   ]
  },
  {
   "cell_type": "code",
   "execution_count": null,
   "id": "0b890ffa-6b5f-43f5-8840-63aa34c571fd",
   "metadata": {},
   "outputs": [],
   "source": [
    "#Start chatting and having Fun\n",
    "display_image(image)\n",
    "load_llama.chatbot(answer_list)"
   ]
  },
  {
   "cell_type": "code",
   "execution_count": null,
   "id": "510c59bb-3fd1-4cf7-bf31-d941e5138306",
   "metadata": {},
   "outputs": [],
   "source": []
  },
  {
   "cell_type": "code",
   "execution_count": null,
   "id": "bec61ed4-0a20-4860-852c-a786a2f57d22",
   "metadata": {},
   "outputs": [],
   "source": []
  }
 ],
 "metadata": {
  "kernelspec": {
   "display_name": "Python 3 (ipykernel)",
   "language": "python",
   "name": "python3"
  },
  "language_info": {
   "codemirror_mode": {
    "name": "ipython",
    "version": 3
   },
   "file_extension": ".py",
   "mimetype": "text/x-python",
   "name": "python",
   "nbconvert_exporter": "python",
   "pygments_lexer": "ipython3",
   "version": "3.11.7"
  }
 },
 "nbformat": 4,
 "nbformat_minor": 5
}
